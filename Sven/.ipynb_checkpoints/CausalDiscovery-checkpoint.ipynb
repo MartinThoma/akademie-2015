{
 "cells": [
  {
   "cell_type": "code",
   "execution_count": 1,
   "metadata": {
    "collapsed": false
   },
   "outputs": [],
   "source": [
    "import numpy as np\n",
    "import matplotlib.pyplot as plt\n",
    "import pandas as pd\n",
    "from scipy import stats\n",
    "from sklearn import linear_model\n",
    "%matplotlib inline"
   ]
  },
  {
   "cell_type": "code",
   "execution_count": 2,
   "metadata": {
    "collapsed": false
   },
   "outputs": [],
   "source": [
    "#Einlesen der Daten\n",
    "data = pd.read_csv('data.txt', sep = ',')"
   ]
  },
  {
   "cell_type": "code",
   "execution_count": 3,
   "metadata": {
    "collapsed": false
   },
   "outputs": [],
   "source": [
    "N = data.shape[0]\n",
    "A = np.array(data['A']).reshape(N,1)\n",
    "B = np.array(data['B']).reshape(N,1)\n",
    "C = np.array(data['C']).reshape(N,1)\n",
    "D = np.array(data['D']).reshape(N,1)"
   ]
  },
  {
   "cell_type": "code",
   "execution_count": 4,
   "metadata": {
    "collapsed": false
   },
   "outputs": [
    {
     "name": "stdout",
     "output_type": "stream",
     "text": [
      "A,B: (array([ 0.38512565]), array([  1.05124411e-36]))\n"
     ]
    }
   ],
   "source": [
    "#Correlation für n = 0\n",
    "print \"A,B:\", stats.pearsonr(A,B)"
   ]
  },
  {
   "cell_type": "code",
   "execution_count": 5,
   "metadata": {
    "collapsed": false
   },
   "outputs": [],
   "source": [
    "#partielle Korrelation\n",
    "def partialCorrelation(a,b,C):\n",
    "    regression = linear_model.LinearRegression()\n",
    "    regression.fit(C,a)\n",
    "    r_a = a-regression.predict(C)\n",
    "    regression.fit(C,b)\n",
    "    r_b = b-regression.predict(C)\n",
    "    return stats.pearsonr(r_a, r_b)"
   ]
  },
  {
   "cell_type": "code",
   "execution_count": 6,
   "metadata": {
    "collapsed": false
   },
   "outputs": [
    {
     "name": "stdout",
     "output_type": "stream",
     "text": [
      "A_B|C: (array([ 0.41060074]), array([  5.93968237e-42]))\n"
     ]
    }
   ],
   "source": [
    "#partielle Korrellation n = 1\n",
    "print \"A_B|C:\", partialCorrelation(A, B, C)"
   ]
  },
  {
   "cell_type": "code",
   "execution_count": null,
   "metadata": {
    "collapsed": true
   },
   "outputs": [],
   "source": []
  }
 ],
 "metadata": {
  "kernelspec": {
   "display_name": "Python 2",
   "language": "python",
   "name": "python2"
  },
  "language_info": {
   "codemirror_mode": {
    "name": "ipython",
    "version": 2
   },
   "file_extension": ".py",
   "mimetype": "text/x-python",
   "name": "python",
   "nbconvert_exporter": "python",
   "pygments_lexer": "ipython2",
   "version": "2.7.8"
  }
 },
 "nbformat": 4,
 "nbformat_minor": 0
}
